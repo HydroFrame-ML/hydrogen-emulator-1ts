{
 "cells": [
  {
   "cell_type": "markdown",
   "id": "7348eed7",
   "metadata": {},
   "source": [
    "# **Subset a CONUS2.1 domain for ParFlow simulation**\n",
    "This notebook subsets a CONUS2.1 domain to be used for training and testing the 1-ts emaultor. \n",
    "\n",
    "It sets up the files needed for a ParFlow-CLM CONUS2.1 run.\n",
    "\n",
    "#### Inputs needed for training: \n",
    "**Transient:** \n",
    "- forcing\n",
    "\n",
    "**Static inputs:** \n",
    "- slopes: x & y (2*2D)\n",
    "- Perm: Kx, ky & Kz (3*3D) (we have just need to be added)\n",
    "- Porosity (1*3D) (we have just need to be added)\n",
    "- Van Genuchten (4*3D) (sres, ssat, alpha, n)\n",
    "- Specific Storage (1*3D)\n",
    "- Mannings (1*2D)\n",
    "- Flow barrier\n",
    "- CLM veg m\n",
    "  "
   ]
  },
  {
   "cell_type": "markdown",
   "id": "48eb1db1",
   "metadata": {},
   "source": [
    "## 1. Import the required libraries and set hydrodata PIN"
   ]
  },
  {
   "cell_type": "code",
   "execution_count": 10,
   "id": "b48187bb",
   "metadata": {
    "tags": []
   },
   "outputs": [],
   "source": [
    "import matplotlib.pyplot as plt\n",
    "import numpy as np\n",
    "import os\n",
    "from parflow import Run\n",
    "from parflow.tools.io import read_pfb, read_clm, write_pfb\n",
    "from parflow.tools.fs import mkdir\n",
    "from parflow.tools.settings import set_working_directory\n",
    "import subsettools as st\n",
    "import hf_hydrodata as hf\n",
    "import glob"
   ]
  },
  {
   "cell_type": "code",
   "execution_count": null,
   "id": "a9767871",
   "metadata": {},
   "outputs": [],
   "source": [
    "# You need to register on https://hydrogen.princeton.edu/pin before you can use the hydrodata utilities\n",
    "email = input('Enter your hydrgen email address')\n",
    "pin = input('Enter your hydrogen PIN')\n",
    "print('Registering ' + email + ' (PIN=' + pin + ') for HydroData download' ) \n",
    "hf.register_api_pin(email, pin)"
   ]
  },
  {
   "cell_type": "markdown",
   "id": "6906dd22",
   "metadata": {
    "tags": []
   },
   "source": [
    "## 2. Setup and user variables\n",
    "\n",
    "### 2.1 User varibles\n",
    "Test locations: \n",
    "- Upper Eel (HUC18010103) outlets = [[39.69982997,-123.35758209]]\n",
    "- East Taylor (HUC14020001),  outlets=[[38.66253817,-106.84684753]]\n",
    "- Conemaugh (HUC 05010007), outlets=[[40.48471460,-79.43527222]]\n",
    "- Granite Spring (HUC16050104) --Haven't done the outlet for this one yet"
   ]
  },
  {
   "cell_type": "code",
   "execution_count": 4,
   "id": "8f1bba18-10ca-459a-a65c-a58350465fb2",
   "metadata": {},
   "outputs": [],
   "source": [
    "run_name = \"Upper_Eel\"\n",
    "base_dir = os.path.join(\"/home/lc2465/NAIRR/test_domains\")\n",
    "outlets = [[39.69982997,-123.35758209]] #watershed will be defined by upstream area\n",
    "\n",
    "# Date range for forcing files \n",
    "# (This is also used as initial settins for CLM driver files)\n",
    "start = \"2002-10-01\"\n",
    "end = \"2003-10-01\"\n",
    "forcing_name = \"WY2003\" #This will be the name for the folder they are put in\n",
    "\n",
    "#Initial condition file to use and dataset to grab from\n",
    "wy = 2024\n",
    "wy_hour = 8784\n",
    "pf_ic_source_name = \"WY2024_V1\"\n",
    "\n",
    "#List of dataset to use static variables to subset\n",
    "grid = \"conus2\"\n",
    "var_ds = \"conus2_domain\" #Dataset to get static variables from\n",
    "variable_list=['slope_x', 'slope_y', 'pme', 'ss_pressure_head', 'pf_indicator', 'pf_flowbarrier', \n",
    "               'mannings']"
   ]
  },
  {
   "cell_type": "markdown",
   "id": "d4973833-e54e-49bd-8ef2-3f3336112095",
   "metadata": {},
   "source": [
    "### 2.2 Setup the directories to put things in"
   ]
  },
  {
   "cell_type": "code",
   "execution_count": 5,
   "id": "bd1118b7-bc23-4eb2-b7fc-aa3f0a6f9b05",
   "metadata": {
    "tags": []
   },
   "outputs": [],
   "source": [
    "static_write_dir = os.path.join(base_dir, run_name, \"static_inputs\")\n",
    "mkdir(static_write_dir)\n",
    "forcing_write_dir = os.path.join(base_dir, run_name, \"forcings\",  forcing_name)\n",
    "mkdir(forcing_write_dir)\n",
    "transient_write_dir = os.path.join(base_dir, run_name, \"transient_runs\")\n",
    "mkdir(transient_write_dir)"
   ]
  },
  {
   "cell_type": "markdown",
   "id": "6df3027c",
   "metadata": {},
   "source": [
    "### 2.3 Get ParFlow bounding box from upstream area point "
   ]
  },
  {
   "cell_type": "code",
   "execution_count": null,
   "id": "38ed4468",
   "metadata": {
    "tags": []
   },
   "outputs": [],
   "source": [
    "ij_upstream_area_bounds, mask = st.define_upstream_domain(outlets=outlets, grid=\"conus2\")\n",
    "print(f\"bounding box: {ij_upstream_area_bounds}\")\n",
    "print(\"Here\")\n",
    "ij_bounds = ij_upstream_area_bounds\n",
    "print(ij_bounds)\n",
    "\n",
    "nj = ij_upstream_area_bounds[3] - ij_upstream_area_bounds[1]\n",
    "ni = ij_upstream_area_bounds[2] - ij_upstream_area_bounds[0]\n",
    "print(f\"nj: {nj}\")\n",
    "print(f\"ni: {ni}\")\n",
    "\n",
    "# plot the mask\n",
    "plt.imshow(mask, origin=\"lower\")\n"
   ]
  },
  {
   "cell_type": "markdown",
   "id": "46c00600",
   "metadata": {},
   "source": [
    "## 3. Subset model files\n",
    "\n",
    "### 3.1 Subset static inputs, clm files and make solid file"
   ]
  },
  {
   "cell_type": "code",
   "execution_count": 12,
   "id": "fd559f4f",
   "metadata": {},
   "outputs": [
    {
     "name": "stderr",
     "output_type": "stream",
     "text": [
      "/tmp/ipykernel_452621/3325509484.py:2: DeprecationWarning: Note that for subsettools versions >= 2.0.0, this function will raise a ValueError if a variable in var_list is not supported in the dataset. (In older versions, it just printed an error message and continued executing normally). You can check in the HydroData documentation which variables are contained in each dataset (https://hf-hydrodata.readthedocs.io/en/latest/available_data.html).\n",
      "  static_paths = st.subset_static(ij_bounds, dataset=var_ds,\n"
     ]
    },
    {
     "name": "stdout",
     "output_type": "stream",
     "text": [
      "Wrote slope_x.pfb in specified directory.\n",
      "Wrote slope_y.pfb in specified directory.\n",
      "Wrote pme.pfb in specified directory.\n",
      "Wrote ss_pressure_head.pfb in specified directory.\n",
      "Wrote pf_indicator.pfb in specified directory.\n",
      "Wrote pf_flowbarrier.pfb in specified directory.\n",
      "Wrote mannings.pfb in specified directory.\n",
      "(42, 1932, 106, 1994)\n",
      "copied vegp\n",
      "subset vegm\n",
      "copied drv_clmin\n",
      "edited drv_clmin\n",
      "Wrote mask.pfb\n",
      "Wrote solidfile and mask_vtk with total z of 2000 meters\n"
     ]
    }
   ],
   "source": [
    "# Subset static ParFlow Files\n",
    "static_paths = st.subset_static(ij_bounds, dataset=var_ds,  \n",
    "                                write_dir=static_write_dir, var_list=variable_list)\n",
    "print(ij_bounds)\n",
    "\n",
    "# Subset CLM files\n",
    "clm_paths = st.config_clm(ij_bounds, start=start, end=end, dataset=var_ds, write_dir=static_write_dir)\n",
    "\n",
    "# Make solid file\n",
    "mask_solid_paths = st.write_mask_solid(mask=mask, grid=grid, write_dir=static_write_dir)"
   ]
  },
  {
   "cell_type": "markdown",
   "id": "c67e6c19-f886-48cc-9b0f-a314f53b0026",
   "metadata": {},
   "source": [
    "### 3.2 Clip the initial pressure file"
   ]
  },
  {
   "cell_type": "code",
   "execution_count": 13,
   "id": "59ebc437-9da7-440b-bb8d-a7c65220b60c",
   "metadata": {},
   "outputs": [
    {
     "name": "stdout",
     "output_type": "stream",
     "text": [
      "Reading Initial pressure file: /hydrodata/temp/CONUS2.1/WY2024_V1/raw_outputs/conus21.wy2024.out.press.08784.pfb\n"
     ]
    },
    {
     "data": {
      "image/png": "[encoded data removed]",
      "text/plain": [
       "<Figure size 640x480 with 2 Axes>"
      ]
     },
     "metadata": {},
     "output_type": "display_data"
    }
   ],
   "source": [
    "#Read in the pressure file\n",
    "fin1= f\"/hydrodata/temp/CONUS2.1/{pf_ic_source_name}/raw_outputs/conus21.wy{wy}.out.press.{wy_hour:05d}.pfb\"\n",
    "print(\"Reading Initial pressure file:\", fin1)\n",
    "#fin1= f\"/hydrodata/temp/CONUS2.1/WY2003_V2/raw_outputs/conus21.wy{wy}.out.press.{wy_hour:05d}.pfb\"\n",
    "IC = read_pfb(fin1)\n",
    "\n",
    "#Clip and write out the subset\n",
    "Upper_Eel_IC = IC[:,ij_bounds[1]:ij_bounds[3],ij_bounds[0]:ij_bounds[2]]\n",
    "write_pfb(static_write_dir+\"/press_in.pfb\", Upper_Eel_IC, p=1,\n",
    "    q=1,\n",
    "    r=1,\n",
    "    x=0.0,\n",
    "    y=0.0,\n",
    "    z=0.0,\n",
    "    dx=1000.0,\n",
    "    dy=1000.0,\n",
    "    dz=200.0)\n",
    "\n",
    "plot_surface = Upper_Eel_IC[9,:,:]\n",
    "plot_surface[plot_surface < .0] = np.nan\n",
    "plt.imshow(plot_surface, origin='lower', cmap='plasma') #,vmin = 0, vmax = 10) #,norm=colors.LogNorm(vmin = 1e-8, vmax = 10),interpolation='none')\n",
    "#plt.axis('off')\n",
    "plt.colorbar()\n",
    "plt.show()"
   ]
  },
  {
   "cell_type": "markdown",
   "id": "fb3f84d9-b636-4138-8099-3d60c0391101",
   "metadata": {},
   "source": [
    "### 3.3 Clip stream segments and DEM for reference"
   ]
  },
  {
   "cell_type": "code",
   "execution_count": 14,
   "id": "8d6e504c-343c-4db7-a35c-9adde7c56a4c",
   "metadata": {},
   "outputs": [
    {
     "name": "stdout",
     "output_type": "stream",
     "text": [
      "(62, 64)\n",
      "26319.0 0.0\n"
     ]
    },
    {
     "data": {
      "image/png": "[encoded data removed]",
      "text/plain": [
       "<Figure size 640x480 with 2 Axes>"
      ]
     },
     "metadata": {},
     "output_type": "display_data"
    },
    {
     "name": "stdout",
     "output_type": "stream",
     "text": [
      "(62, 64)\n"
     ]
    },
    {
     "data": {
      "image/png": "[encoded data removed]",
      "text/plain": [
       "<Figure size 640x480 with 1 Axes>"
      ]
     },
     "metadata": {},
     "output_type": "display_data"
    }
   ],
   "source": [
    "#### Stream segments\n",
    "\n",
    "#clip the streams\n",
    "options = {\"dataset\":var_ds, \"variable\":\"stream_segments\", \"grid_bounds\":ij_bounds }\n",
    "stream_HUC = hf.get_gridded_data(options)\n",
    "\n",
    "#plot the streams\n",
    "print(stream_HUC.shape)\n",
    "print(np.max(stream_HUC), np.min(stream_HUC))\n",
    "# map stream segments to values of 1\n",
    "stream_HUC[stream_HUC>0] = 1\n",
    "# plot the streams\n",
    "str= plt.imshow(stream_HUC, cmap=\"terrain\", origin=\"lower\") \n",
    "plt.colorbar(str, ax=plt.gca())\n",
    "plt.show()\n",
    "\n",
    "#write the streams\n",
    "write_pfb(static_write_dir+\"/streams.pfb\", stream_HUC, p=1,\n",
    "    q=1,\n",
    "    r=1,\n",
    "    x=0.0,\n",
    "    y=0.0,\n",
    "    z=0.0,\n",
    "    dx=1000.0,\n",
    "    dy=1000.0,\n",
    "    dz=0.1)\n",
    "\n",
    "### DEM\n",
    "# clip the dem\n",
    "options = {\"dataset\":var_ds, \"variable\":\"elevation\", \"grid_bounds\":ij_bounds }\n",
    "dem = hf.get_gridded_data(options)\n",
    "\n",
    "# plot the dem\n",
    "plt.imshow(dem, cmap=\"terrain\", origin=\"lower\")\n",
    "\n",
    "#write the dem\n",
    "write_pfb(static_write_dir+\"/dem.pfb\", dem, p=1,\n",
    "    q=1,\n",
    "    r=1,\n",
    "    x=0.0,\n",
    "    y=0.0,\n",
    "    z=0.0,\n",
    "    dx=1000.0,\n",
    "    dy=1000.0,\n",
    "    dz=0.1)\n",
    "print(dem.shape)\n",
    "\n",
    "\n",
    "## OPTIONAL CROSS CHECK\n",
    "# Test cross checking with a manual clip from the CONUS files\n",
    "#file = \"/hydrodata/PFCLM/CONUS2_baseline/inputs/topography_files/1km/CONUS2.0.Final1km.StreamSegments.pfb\"\n",
    "#streams = read_pfb(file)\n",
    "#stream_clip = streams[0,ij_bounds[1]:ij_bounds[3],ij_bounds[0]:ij_bounds[2]]\n",
    "#print(stream_clip.shape)\n",
    "#print(np.max(stream_clip), np.min(stream_clip))\n",
    "#stream_clip[stream_clip>0] = 1\n",
    "\n",
    "# plot the streams\n",
    "#str= plt.imshow(stream_clip, cmap=\"terrain\", origin=\"lower\") \n",
    "#plt.colorbar(str, ax=plt.gca())\n",
    "#plt.show()"
   ]
  },
  {
   "cell_type": "markdown",
   "id": "032d53cc",
   "metadata": {},
   "source": [
    "## 4. Subset transient Forcing files\n"
   ]
  },
  {
   "cell_type": "code",
   "execution_count": 15,
   "id": "f4790b3e",
   "metadata": {},
   "outputs": [
    {
     "name": "stdout",
     "output_type": "stream",
     "text": [
      "Reading atmospheric_pressure pfb sequence\n",
      "Reading downward_shortwave pfb sequence\n",
      "Reading downward_longwave pfb sequence\n",
      "Reading east_windspeed pfb sequence\n",
      "Reading precipitation pfb sequence\n",
      "Reading specific_humidity pfb sequence\n",
      "Reading air_temp pfb sequence\n",
      "Reading north_windspeed pfb sequence\n",
      "Finished writing precipitation to folder\n",
      "Finished writing downward_shortwave to folder\n",
      "Finished writing east_windspeed to folder\n",
      "Finished writing north_windspeed to folder\n",
      "Finished writing atmospheric_pressure to folder\n",
      "Finished writing downward_longwave to folder\n",
      "Finished writing air_temp to folder\n",
      "Finished writing specific_humidity to folder\n"
     ]
    }
   ],
   "source": [
    "# Example grabbing all 8 forcing variables\n",
    "filepaths = st.subset_forcing(\n",
    "    ij_bounds,\n",
    "    grid=\"conus2\",\n",
    "    start=start,\n",
    "    end=end,\n",
    "    dataset=\"CW3E\",\n",
    "    write_dir=forcing_write_dir,\n",
    ")"
   ]
  },
  {
   "cell_type": "code",
   "execution_count": null,
   "id": "53bb3193-9258-4ba1-8eb9-d83dd7046689",
   "metadata": {},
   "outputs": [],
   "source": []
  }
 ],
 "metadata": {
  "kernelspec": {
   "display_name": "Python 3 (ipykernel)",
   "language": "python",
   "name": "python3"
  },
  "language_info": {
   "codemirror_mode": {
    "name": "ipython",
    "version": 3
   },
   "file_extension": ".py",
   "mimetype": "text/x-python",
   "name": "python",
   "nbconvert_exporter": "python",
   "pygments_lexer": "ipython3",
   "version": "3.11.4"
  }
 },
 "nbformat": 4,
 "nbformat_minor": 5
}
