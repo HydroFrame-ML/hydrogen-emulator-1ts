{
 "cells": [
  {
   "cell_type": "code",
   "execution_count": 2,
   "metadata": {},
   "outputs": [
    {
     "name": "stdout",
     "output_type": "stream",
     "text": [
      "/home/lc2465/NAIRR/hydrogen-emulator-1ts/notebooks\n"
     ]
    }
   ],
   "source": [
    "import xarray as xr\n",
    "import os\n",
    "# Need to use xbatcher from: https://github.com/arbennett/xbatcher/tree/develop\n",
    "# See readme for installation instructions\n",
    "import xbatcher as xb\n",
    "import numpy as np\n",
    "import matplotlib.pyplot as plt\n",
    "\n",
    "from glob import glob\n",
    "from parflow.tools.io import read_pfb\n",
    "\n",
    "#import scalers\n",
    "import yaml\n",
    "\n",
    "print(os.getcwd())\n"
   ]
  },
  {
   "cell_type": "markdown",
   "metadata": {},
   "source": [
    "# Setup the paths to the test case"
   ]
  },
  {
   "cell_type": "code",
   "execution_count": 61,
   "metadata": {},
   "outputs": [
    {
     "name": "stdout",
     "output_type": "stream",
     "text": [
      "(10, 64, 64)\n",
      "<xarray.Dataset> Size: 1kB\n",
      "Dimensions:  (time: 1, z: 10, y: 64, x: 64)\n",
      "Coordinates:\n",
      "  * time     (time) int64 8B 0\n",
      "  * z        (z) int64 80B 0 1 2 3 4 5 6 7 8 9\n",
      "  * y        (y) int64 512B 0 1 2 3 4 5 6 7 8 9 ... 55 56 57 58 59 60 61 62 63\n",
      "  * x        (x) int64 512B 0 1 2 3 4 5 6 7 8 9 ... 55 56 57 58 59 60 61 62 63\n",
      "Data variables:\n",
      "    *empty*\n"
     ]
    }
   ],
   "source": [
    "BASE_DIR = '/Users/laura/Documents/Research/NAIRR/test_box2_conus2_2002WY'\n",
    "\n",
    "#list of the static files to use\n",
    "parameter_list= ['slope_x', 'slope_y', 'permeability_x', 'permeability_y' , 'permeability_z',\n",
    "'porosity',\n",
    "'pf_flowbarrier', 'mannings', 'specific_storage', 'sres' , 'ssat']\n",
    "#indicate how many layers of each static parameter file should be used\n",
    "# 0 indicates all layers should be used\n",
    "# positive numbers indicate that the bottom n layers should be used\n",
    "# negative numbers indicate that the top n layers should be used\n",
    "param_nlayer = [0, 0, -1, 1, -5, 0, 0, 0, 0, 0, 0]\n",
    "\n",
    "#get the domain sizes from one of the 3D parameter fields (this assumes that all will have the same shape I don't have a check for that built in, also assumes you will correctly pick a 3D one and not a 2D one)\n",
    "size_test=read_pfb(f'{BASE_DIR}/static/{parameter_list[2]}.pfb')\n",
    "print(size_test.shape)\n",
    "X_EXTENT = size_test.shape[2] \n",
    "Y_EXTENT = size_test.shape[1]\n",
    "Z_EXTENT = size_test.shape[0]\n",
    "T_EXTENT = 1 #This is just for the dummy data for sampling so keep T_EXTENT to 1\n",
    "\n",
    "#Set the the patch size/overlap to be used for sampling\n",
    "PATCH_SIZE = 16\n",
    "PATCH_OVERLAP = 4\n",
    "\n",
    "# Create a dummy dataset that will be used to pull indices for reading subsets of the data\n",
    "dummy_data = xr.Dataset().assign_coords({\n",
    "    'time': np.arange(T_EXTENT),\n",
    "    'z': np.arange(Z_EXTENT),\n",
    "    'y': np.arange(Y_EXTENT),\n",
    "    'x': np.arange(X_EXTENT)\n",
    "})\n",
    "print(dummy_data)\n"
   ]
  },
  {
   "cell_type": "markdown",
   "metadata": {},
   "source": [
    "## The batch generator create all of the sets of indices we need to sample the full dataset"
   ]
  },
  {
   "cell_type": "code",
   "execution_count": 62,
   "metadata": {},
   "outputs": [
    {
     "name": "stdout",
     "output_type": "stream",
     "text": [
      "{'x': {'start': np.int64(48), 'stop': np.int64(64)}, 'y': {'start': np.int64(16), 'stop': np.int64(36)}}\n"
     ]
    }
   ],
   "source": [
    "#THis is the constructor add dummy data to this\n",
    "PATCH_SIZE = 20\n",
    "PATCH_OVERLAP = 4\n",
    "\n",
    "bgen = xb.BatchGenerator(\n",
    "    dummy_data,\n",
    "    input_dims={'x': PATCH_SIZE, 'y': PATCH_SIZE, 'time': 1},\n",
    "    input_overlap={'x': PATCH_OVERLAP, 'y': PATCH_OVERLAP},\n",
    "    return_partial=True,\n",
    "    shuffle=True,\n",
    ")\n",
    "\n",
    "#Random print testing can delete later - LC\n",
    "#print('here')\n",
    "#print(len(bgen))\n",
    "#print(bgen[1])\n",
    "#print('here 2')\n",
    "#print(bgen[2])\n",
    "#sample_indices=bgen[2]\n",
    "#x_min, x_max = sample_indices['x'].values[[0, -1]]\n",
    "#print(x_min, x_max)\n",
    "\n",
    "# Now you can see this pulls samples from the dummy data\n",
    "# Normally you would loop over this, but I can just do \n",
    "# this to grab the first sample\n",
    "sample_indices = next(iter(bgen))\n",
    "\n",
    "# Pulling the indices we need\n",
    "time_index = sample_indices['time'].values[0]\n",
    "x_min, x_max = sample_indices['x'].values[[0, -1]]\n",
    "y_min, y_max = sample_indices['y'].values[[0, -1]]\n",
    "\n",
    "# Setting up the keys dictionary\n",
    "patch_keys = {\n",
    "    'x': {'start': x_min, 'stop': x_max+1},\n",
    "    'y': {'start': y_min, 'stop': y_max+1},\n",
    "}\n",
    "\n",
    "print(patch_keys)\n"
   ]
  },
  {
   "cell_type": "markdown",
   "metadata": {},
   "source": [
    "### Getting the pressure files"
   ]
  },
  {
   "cell_type": "code",
   "execution_count": 63,
   "metadata": {},
   "outputs": [
    {
     "name": "stdout",
     "output_type": "stream",
     "text": [
      "/Users/laura/Documents/Research/NAIRR/test_box2_conus2_2002WY/transient/pressure.00000.pfb\n",
      "(10, 20, 16) (10, 20, 16)\n"
     ]
    }
   ],
   "source": [
    "# Get Pressure files\n",
    "pressure_files = sorted(glob(f'{BASE_DIR}/transient/pressure*.pfb'))\n",
    "pressure_files = {\n",
    "    't': pressure_files[0:-1],\n",
    "    't+1': pressure_files[1:]\n",
    "}\n",
    "\n",
    "# Construct the state data:\n",
    "file_to_read = pressure_files['t'][time_index]\n",
    "print(file_to_read)\n",
    "\n",
    "state_data = read_pfb(file_to_read, keys=patch_keys)\n",
    "\n",
    "# Construct the target data:\n",
    "file_to_read_target = pressure_files['t+1'][time_index]\n",
    "target_data = read_pfb(file_to_read_target, keys=patch_keys)\n",
    "\n",
    "# Forcings and targets now have dims\n",
    "# (layers, y, x)\n",
    "print(state_data.shape, target_data.shape)\n"
   ]
  },
  {
   "cell_type": "markdown",
   "metadata": {},
   "source": [
    "### Pulling the static field data"
   ]
  },
  {
   "cell_type": "code",
   "execution_count": 64,
   "metadata": {},
   "outputs": [
    {
     "name": "stdout",
     "output_type": "stream",
     "text": [
      "/Users/laura/Documents/Research/NAIRR/test_box2_conus2_2002WY/static/slope_x.pfb\n",
      "/Users/laura/Documents/Research/NAIRR/test_box2_conus2_2002WY/static/slope_y.pfb\n",
      "/Users/laura/Documents/Research/NAIRR/test_box2_conus2_2002WY/static/permeability_x.pfb\n",
      "/Users/laura/Documents/Research/NAIRR/test_box2_conus2_2002WY/static/permeability_y.pfb\n",
      "/Users/laura/Documents/Research/NAIRR/test_box2_conus2_2002WY/static/permeability_z.pfb\n",
      "/Users/laura/Documents/Research/NAIRR/test_box2_conus2_2002WY/static/porosity.pfb\n",
      "/Users/laura/Documents/Research/NAIRR/test_box2_conus2_2002WY/static/pf_flowbarrier.pfb\n",
      "/Users/laura/Documents/Research/NAIRR/test_box2_conus2_2002WY/static/mannings.pfb\n",
      "/Users/laura/Documents/Research/NAIRR/test_box2_conus2_2002WY/static/specific_storage.pfb\n",
      "/Users/laura/Documents/Research/NAIRR/test_box2_conus2_2002WY/static/sres.pfb\n",
      "/Users/laura/Documents/Research/NAIRR/test_box2_conus2_2002WY/static/ssat.pfb\n"
     ]
    },
    {
     "data": {
      "text/plain": [
       "(83, 20, 16)"
      ]
     },
     "execution_count": 64,
     "metadata": {},
     "output_type": "execute_result"
    }
   ],
   "source": [
    "parameter_data = []\n",
    "for parameter in parameter_list:\n",
    "    file_name=f'{BASE_DIR}/static/{parameter}.pfb'\n",
    "    print(file_name)\n",
    "    parameter_data.append(read_pfb(file_name, keys=patch_keys))\n",
    "\n",
    "#Add the ET for the current timestep\n",
    "#file_name_et=file_to_read.replace('pressure', 'evaptrans')\n",
    "#print(file_name_et)\n",
    "#parameter_data.append(read_pfb(file_name_et, #keys=patch_keys))\n",
    "\n",
    "# Concatenate the parameter data together\n",
    "# End result is a dims of (n_parameters, y, x)\n",
    "parameter_data = np.concatenate(parameter_data, axis=0)\n",
    "parameter_data.shape"
   ]
  },
  {
   "cell_type": "markdown",
   "metadata": {},
   "source": [
    "### Testing scaling the pressure data"
   ]
  },
  {
   "cell_type": "code",
   "execution_count": 65,
   "metadata": {},
   "outputs": [
    {
     "name": "stdout",
     "output_type": "stream",
     "text": [
      "/Users/laura/Documents/Research/NAIRR/hydrogen-emulator-1ts\n",
      "<__main__.StandardScaler object at 0x188d7b0a0>\n",
      "-1.5365720188274083 0.6219785299576331\n",
      "-42.624761105036576 17.254239085096202\n",
      "0 : 5000064.399121741 , 3054536.842966496\n",
      "1 : 991135.0305982605 , 1298836.0932454276\n",
      "2 : 106074.81835973557 , 257747.0325178825\n",
      "3 : 6432.6919912145195 , 27103.89204780729\n",
      "4 : -260.14593460272994 , 1729.746844127095\n",
      "5 : -132.32387493454831 , 201.72651647015962\n",
      "6 : -33.515867653191684 , 45.90643399576968\n",
      "7 : -44.697438677166815 , 29.771451779453066\n",
      "8 : -48.299928879549235 , 22.682676623317136\n",
      "9 : -42.624761105036576 , 17.254239085096202\n"
     ]
    },
    {
     "data": {
      "image/png": "[encoded data removed]",
      "text/plain": [
       "<Figure size 640x480 with 2 Axes>"
      ]
     },
     "metadata": {},
     "output_type": "display_data"
    }
   ],
   "source": [
    "# Testing scalling the pressure data\n",
    "#Copied from scalers.py\n",
    "class BaseScaler:\n",
    "    \"\"\" Implements base methods that all scalers should inherit \"\"\"\n",
    "\n",
    "    def fit_transform(self, x):\n",
    "        self.fit(x)\n",
    "        return self.transform(x)\n",
    "\n",
    "#Copied from scalers.py\n",
    "class StandardScaler(BaseScaler):\n",
    "    \"\"\"\n",
    "    The StandardScaler standardizes data by subtracting the\n",
    "    mean and dividing by the standard deviation of the data\n",
    "    \"\"\"\n",
    "\n",
    "    def __init__(self, mean=None, std=None, **kwargs):\n",
    "        self.eps = 1e-6\n",
    "        self.mean = mean\n",
    "        self.std = std\n",
    "\n",
    "    def fit(self, x, unbiased=False):\n",
    "        self.mean = x.mean()\n",
    "        self.std = x.std(unbiased=unbiased)\n",
    "\n",
    "    def transform(self, x):\n",
    "        y = (x - self.mean) / (self.std + self.eps)\n",
    "        return y\n",
    "\n",
    "    def inverse_transform(self, y):\n",
    "        x = y * (self.std + self.eps) + self.mean\n",
    "        return x\n",
    "\n",
    "print(os.getcwd())\n",
    "file = './notebooks/default_scalers.yaml'\n",
    "with open(file, 'r') as f:\n",
    "       lookup = yaml.load(f, Loader=yaml.FullLoader)\n",
    "scalers = {}\n",
    "for k, v in lookup.items():\n",
    "    #print('K', k)\n",
    "    scalers[k] = StandardScaler(float(v['mean']), float(v['std']))\n",
    "print(scalers['press_diff_0'])\n",
    "\n",
    "plt.imshow(state_data[9, :, :])\n",
    "plt.colorbar()\n",
    "\n",
    "print(np.mean(state_data[9, :, :]), np.std(state_data[9, :, :]))\n",
    "\n",
    "#test= (state_data[0, :, :] - (-2.8628012241080942e-06))/(3.2339409258506475e-05 + 1e-6) \n",
    "test= (state_data[9, :, :] - (-4.026444792345023e-05))/(0.03604686782483403 + 1e-6)\n",
    "print(np.mean(test), np.std(test))\n",
    "\n",
    "for k in range(10):\n",
    "    #print(np.mean(state_data[k]))\n",
    "    #print(np.std(state_data[k]))\n",
    "    state_data[k]= scalers[f'press_diff_{k}'].transform(state_data[k])\n",
    "    print(k, ':', np.mean(state_data[k]), ',' , np.std(state_data[k]))\n",
    "    #print(np.std(state_data[k]))"
   ]
  },
  {
   "cell_type": "markdown",
   "metadata": {},
   "source": [
    "## Test scaling the static parameters"
   ]
  },
  {
   "cell_type": "code",
   "execution_count": 73,
   "metadata": {},
   "outputs": [
    {
     "name": "stdout",
     "output_type": "stream",
     "text": [
      "[0, 0, -1, 1, -5, 0, 0, 0, 0, 0, 0]\n",
      "/Users/laura/Documents/Research/NAIRR/test_box2_conus2_2002WY/static/slope_x.pfb\n",
      "/Users/laura/Documents/Research/NAIRR/test_box2_conus2_2002WY/static/slope_y.pfb\n",
      "/Users/laura/Documents/Research/NAIRR/test_box2_conus2_2002WY/static/permeability_x.pfb\n",
      "/Users/laura/Documents/Research/NAIRR/test_box2_conus2_2002WY/static/permeability_y.pfb\n",
      "/Users/laura/Documents/Research/NAIRR/test_box2_conus2_2002WY/static/permeability_z.pfb\n",
      "/Users/laura/Documents/Research/NAIRR/test_box2_conus2_2002WY/static/porosity.pfb\n",
      "/Users/laura/Documents/Research/NAIRR/test_box2_conus2_2002WY/static/pf_flowbarrier.pfb\n",
      "/Users/laura/Documents/Research/NAIRR/test_box2_conus2_2002WY/static/mannings.pfb\n",
      "/Users/laura/Documents/Research/NAIRR/test_box2_conus2_2002WY/static/specific_storage.pfb\n",
      "/Users/laura/Documents/Research/NAIRR/test_box2_conus2_2002WY/static/sres.pfb\n",
      "/Users/laura/Documents/Research/NAIRR/test_box2_conus2_2002WY/static/ssat.pfb\n",
      "STARTING ET\n",
      "after 0.0\n",
      "after 0.0\n",
      "after 0.0\n",
      "after 0.0\n",
      "after 0.0\n",
      "after 0.0\n",
      "after -0.1950464170982996\n",
      "after -0.23755844430519488\n",
      "after -0.27250701859419124\n",
      "after -0.15053955582634823\n",
      "(4, 20, 16)\n",
      "-0.21391285895600848\n",
      "-0.1950464170982996\n",
      "-0.23755844430519488\n",
      "-0.27250701859419124\n",
      "-0.15053955582634823\n"
     ]
    },
    {
     "data": {
      "text/plain": [
       "(60, 20, 16)"
      ]
     },
     "execution_count": 73,
     "metadata": {},
     "output_type": "execute_result"
    }
   ],
   "source": [
    "print(param_nlayer)\n",
    "parameter_data = []\n",
    "for (parameter, n_lay) in zip(parameter_list, param_nlayer):\n",
    "    #print(parameter, n_lay)\n",
    "    file_name=f'{BASE_DIR}/static/{parameter}.pfb'\n",
    "    print(file_name)\n",
    "    param_temp=read_pfb(file_name, keys=patch_keys)\n",
    "    if param_temp.shape[0] == 1:\n",
    "        param_temp = scalers[f'{parameter}'].transform(param_temp)\n",
    "        #print(parameter, \"2D scaling\")\n",
    "    else: \n",
    "        #print(parameter, \"3D scaling\")\n",
    "        for k in range(param_temp.shape[0]):\n",
    "            param_temp[k]= scalers[f'{parameter}_{k}'].transform(param_temp[k])\n",
    "\n",
    "        #Grab the top n bottom or top layers if specified in the param_nlayer list\n",
    "        if n_lay > 0:\n",
    "            #print(\"Grabbing from the bottom\")\n",
    "            param_temp = param_temp[0:n_lay,:,:]\n",
    "            #print(param_temp.shape)\n",
    "        elif n_lay < 0:\n",
    "            #print(\"Grabbing from the top\")\n",
    "            param_temp = param_temp[n_lay:,:,:]\n",
    "            #print(param_temp.shape)\n",
    "            \n",
    "    parameter_data.append(param_temp)\n",
    "\n",
    "#Add the ET for the current timestep\n",
    "#file_name_et=file_to_read.replace('pressure', 'evaptrans')\n",
    "#print(file_name_et)\n",
    "#parameter_data.append(read_pfb(file_name_et, #keys=patch_keys))\n",
    "print(\"STARTING ET\")\n",
    "n_evaptrans=-4\n",
    "file_name_et=file_to_read.replace('pressure', 'evaptrans')\n",
    "evaptrans = (read_pfb(file_name_et, keys= patch_keys))\n",
    "for k in range(10):\n",
    "    #print(\"before\", np.mean(evaptrans[k]))\n",
    "    evaptrans[k]= scalers[f'evaptrans_{k}'].transform(evaptrans[k])\n",
    "    print(\"after\", np.mean(evaptrans[k]))\n",
    "#Grab the top n bottom or top layers if specified in the param_nlayer list\n",
    "#Grab the bottom n_lay layers\n",
    "if n_evaptrans > 0:\n",
    "    evaptrans = evaptrans[0:n_evaptrans,:,:]\n",
    "#Grab the top n_lay layers\n",
    "elif n_evaptrans < 0:\n",
    "    #evaptrans = evaptrans[(n_evaptrans-1):-1,:,:]\n",
    "    evaptrans = evaptrans[n_evaptrans:,:,:]\n",
    "\n",
    "print(evaptrans.shape)\n",
    "print(np.mean(evaptrans)) \n",
    "for k in range(evaptrans.shape[0]):\n",
    "    print(np.mean(evaptrans[k]))\n",
    "    #print(np.std(state_data[k]))\n",
    "\n",
    "\n",
    "# Concatenate the parameter data together\n",
    "# End result is a dims of (n_parameters, y, x)\n",
    "parameter_data = np.concatenate(parameter_data, axis=0)\n",
    "parameter_data.shape\n",
    "\n"
   ]
  },
  {
   "cell_type": "markdown",
   "metadata": {},
   "source": [
    "### Random testing stuff don't need"
   ]
  },
  {
   "cell_type": "markdown",
   "metadata": {},
   "source": [
    "### Testing scalers"
   ]
  },
  {
   "cell_type": "code",
   "execution_count": null,
   "metadata": {},
   "outputs": [
    {
     "name": "stdout",
     "output_type": "stream",
     "text": [
      "K slope_x\n",
      "K slope_y\n",
      "K permeability_x_0\n",
      "K permeability_x_1\n",
      "K permeability_x_2\n",
      "K permeability_x_3\n",
      "K permeability_x_4\n",
      "K permeability_x_5\n",
      "K permeability_x_6\n",
      "K permeability_x_7\n",
      "K permeability_x_8\n",
      "K permeability_x_9\n",
      "K permeability_y_0\n",
      "K permeability_y_1\n",
      "K permeability_y_2\n",
      "K permeability_y_3\n",
      "K permeability_y_4\n",
      "K permeability_y_5\n",
      "K permeability_y_6\n",
      "K permeability_y_7\n",
      "K permeability_y_8\n",
      "K permeability_y_9\n",
      "K permeability_z_0\n",
      "K permeability_z_1\n",
      "K permeability_z_2\n",
      "K permeability_z_3\n",
      "K permeability_z_4\n",
      "K permeability_z_5\n",
      "K permeability_z_6\n",
      "K permeability_z_7\n",
      "K permeability_z_8\n",
      "K permeability_z_9\n",
      "K porosity_0\n",
      "K porosity_1\n",
      "K porosity_2\n",
      "K porosity_3\n",
      "K porosity_4\n",
      "K porosity_5\n",
      "K porosity_6\n",
      "K porosity_7\n",
      "K porosity_8\n",
      "K porosity_9\n",
      "K pf_flowbarrier_0\n",
      "K pf_flowbarrier_1\n",
      "K pf_flowbarrier_2\n",
      "K pf_flowbarrier_3\n",
      "K pf_flowbarrier_4\n",
      "K pf_flowbarrier_5\n",
      "K pf_flowbarrier_6\n",
      "K pf_flowbarrier_7\n",
      "K pf_flowbarrier_8\n",
      "K pf_flowbarrier_9\n",
      "K mannings\n",
      "K specific_storage_0\n",
      "K specific_storage_1\n",
      "K specific_storage_2\n",
      "K specific_storage_3\n",
      "K specific_storage_4\n",
      "K specific_storage_5\n",
      "K specific_storage_6\n",
      "K specific_storage_7\n",
      "K specific_storage_8\n",
      "K specific_storage_9\n",
      "K sres_0\n",
      "K sres_1\n",
      "K sres_2\n",
      "K sres_3\n",
      "K sres_4\n",
      "K sres_5\n",
      "K sres_6\n",
      "K sres_7\n",
      "K sres_8\n",
      "K sres_9\n",
      "K ssat_0\n",
      "K ssat_1\n",
      "K ssat_2\n",
      "K ssat_3\n",
      "K ssat_4\n",
      "K ssat_5\n",
      "K ssat_6\n",
      "K ssat_7\n",
      "K ssat_8\n",
      "K ssat_9\n",
      "K press_diff_0\n",
      "K press_diff_1\n",
      "K press_diff_2\n",
      "K press_diff_3\n",
      "K press_diff_4\n",
      "K press_diff_5\n",
      "K press_diff_6\n",
      "K press_diff_7\n",
      "K press_diff_8\n",
      "K press_diff_9\n",
      "K evaptrans_0\n",
      "K evaptrans_1\n",
      "K evaptrans_2\n",
      "K evaptrans_3\n",
      "K evaptrans_4\n",
      "K evaptrans_5\n",
      "K evaptrans_6\n",
      "K evaptrans_7\n",
      "K evaptrans_8\n",
      "K evaptrans_9\n",
      "{'slope_x': <__main__.StandardScaler object at 0x18b896410>, 'slope_y': <__main__.StandardScaler object at 0x18b896140>, 'permeability_x_0': <__main__.StandardScaler object at 0x18b896380>, 'permeability_x_1': <__main__.StandardScaler object at 0x18b8949a0>, 'permeability_x_2': <__main__.StandardScaler object at 0x18befbfa0>, 'permeability_x_3': <__main__.StandardScaler object at 0x18bef84f0>, 'permeability_x_4': <__main__.StandardScaler object at 0x18befab60>, 'permeability_x_5': <__main__.StandardScaler object at 0x18bef94b0>, 'permeability_x_6': <__main__.StandardScaler object at 0x18befa290>, 'permeability_x_7': <__main__.StandardScaler object at 0x18bef82e0>, 'permeability_x_8': <__main__.StandardScaler object at 0x18f71fbe0>, 'permeability_x_9': <__main__.StandardScaler object at 0x18f76fc70>, 'permeability_y_0': <__main__.StandardScaler object at 0x18f76f700>, 'permeability_y_1': <__main__.StandardScaler object at 0x18f76ee30>, 'permeability_y_2': <__main__.StandardScaler object at 0x18f76fac0>, 'permeability_y_3': <__main__.StandardScaler object at 0x18f76fa00>, 'permeability_y_4': <__main__.StandardScaler object at 0x18f76f8b0>, 'permeability_y_5': <__main__.StandardScaler object at 0x18f76fb80>, 'permeability_y_6': <__main__.StandardScaler object at 0x18f76edd0>, 'permeability_y_7': <__main__.StandardScaler object at 0x18f76fe80>, 'permeability_y_8': <__main__.StandardScaler object at 0x18f76f9d0>, 'permeability_y_9': <__main__.StandardScaler object at 0x18f76f6d0>, 'permeability_z_0': <__main__.StandardScaler object at 0x18f76ff70>, 'permeability_z_1': <__main__.StandardScaler object at 0x18f76fd30>, 'permeability_z_2': <__main__.StandardScaler object at 0x18f76fb20>, 'permeability_z_3': <__main__.StandardScaler object at 0x18f76f820>, 'permeability_z_4': <__main__.StandardScaler object at 0x18f76fbb0>, 'permeability_z_5': <__main__.StandardScaler object at 0x18f76f610>, 'permeability_z_6': <__main__.StandardScaler object at 0x18f76fca0>, 'permeability_z_7': <__main__.StandardScaler object at 0x18f76fa60>, 'permeability_z_8': <__main__.StandardScaler object at 0x18f76ffd0>, 'permeability_z_9': <__main__.StandardScaler object at 0x18f76f370>, 'porosity_0': <__main__.StandardScaler object at 0x18f76fcd0>, 'porosity_1': <__main__.StandardScaler object at 0x18c3ce770>, 'porosity_2': <__main__.StandardScaler object at 0x18c3cd2d0>, 'porosity_3': <__main__.StandardScaler object at 0x18c3ce140>, 'porosity_4': <__main__.StandardScaler object at 0x18c3cc6d0>, 'porosity_5': <__main__.StandardScaler object at 0x18c3ce410>, 'porosity_6': <__main__.StandardScaler object at 0x18c3cf100>, 'porosity_7': <__main__.StandardScaler object at 0x18c3cdba0>, 'porosity_8': <__main__.StandardScaler object at 0x18c3cee60>, 'porosity_9': <__main__.StandardScaler object at 0x18c3cf730>, 'pf_flowbarrier_0': <__main__.StandardScaler object at 0x18c3cd420>, 'pf_flowbarrier_1': <__main__.StandardScaler object at 0x18c3cebf0>, 'pf_flowbarrier_2': <__main__.StandardScaler object at 0x18c3cee00>, 'pf_flowbarrier_3': <__main__.StandardScaler object at 0x18c3cc400>, 'pf_flowbarrier_4': <__main__.StandardScaler object at 0x18c3cf2e0>, 'pf_flowbarrier_5': <__main__.StandardScaler object at 0x18c3ccac0>, 'pf_flowbarrier_6': <__main__.StandardScaler object at 0x18c3cd1b0>, 'pf_flowbarrier_7': <__main__.StandardScaler object at 0x18c3cf1f0>, 'pf_flowbarrier_8': <__main__.StandardScaler object at 0x18c3cd720>, 'pf_flowbarrier_9': <__main__.StandardScaler object at 0x18c3ccb80>, 'mannings': <__main__.StandardScaler object at 0x18c3ceb60>, 'specific_storage_0': <__main__.StandardScaler object at 0x18c3cef80>, 'specific_storage_1': <__main__.StandardScaler object at 0x18c3cd5d0>, 'specific_storage_2': <__main__.StandardScaler object at 0x18c3cd180>, 'specific_storage_3': <__main__.StandardScaler object at 0x18c3cf970>, 'specific_storage_4': <__main__.StandardScaler object at 0x18c3ccc40>, 'specific_storage_5': <__main__.StandardScaler object at 0x18c3cf940>, 'specific_storage_6': <__main__.StandardScaler object at 0x18c3cf160>, 'specific_storage_7': <__main__.StandardScaler object at 0x18c3cc970>, 'specific_storage_8': <__main__.StandardScaler object at 0x18c3cfc70>, 'specific_storage_9': <__main__.StandardScaler object at 0x18c3cde40>, 'sres_0': <__main__.StandardScaler object at 0x18c3cfb50>, 'sres_1': <__main__.StandardScaler object at 0x18c3cece0>, 'sres_2': <__main__.StandardScaler object at 0x18c3ce020>, 'sres_3': <__main__.StandardScaler object at 0x18c3cf4c0>, 'sres_4': <__main__.StandardScaler object at 0x18c3cdc30>, 'sres_5': <__main__.StandardScaler object at 0x18c3cf4f0>, 'sres_6': <__main__.StandardScaler object at 0x18c3cc220>, 'sres_7': <__main__.StandardScaler object at 0x18c3cd450>, 'sres_8': <__main__.StandardScaler object at 0x18c3cf310>, 'sres_9': <__main__.StandardScaler object at 0x18c3cdb40>, 'ssat_0': <__main__.StandardScaler object at 0x18c3cded0>, 'ssat_1': <__main__.StandardScaler object at 0x18c3cda20>, 'ssat_2': <__main__.StandardScaler object at 0x18c3cf220>, 'ssat_3': <__main__.StandardScaler object at 0x18c3ce0e0>, 'ssat_4': <__main__.StandardScaler object at 0x18c3cc3d0>, 'ssat_5': <__main__.StandardScaler object at 0x18c3cd8a0>, 'ssat_6': <__main__.StandardScaler object at 0x18c3cd510>, 'ssat_7': <__main__.StandardScaler object at 0x18c3ce2f0>, 'ssat_8': <__main__.StandardScaler object at 0x18c3ccfa0>, 'ssat_9': <__main__.StandardScaler object at 0x18c3cf9d0>, 'press_diff_0': <__main__.StandardScaler object at 0x18c3ce8c0>, 'press_diff_1': <__main__.StandardScaler object at 0x18c3cd480>, 'press_diff_2': <__main__.StandardScaler object at 0x18c3cd540>, 'press_diff_3': <__main__.StandardScaler object at 0x18c3cc6a0>, 'press_diff_4': <__main__.StandardScaler object at 0x18c3ce7d0>, 'press_diff_5': <__main__.StandardScaler object at 0x18c3cf280>, 'press_diff_6': <__main__.StandardScaler object at 0x18c3ccee0>, 'press_diff_7': <__main__.StandardScaler object at 0x18c3cee30>, 'press_diff_8': <__main__.StandardScaler object at 0x18c3cfd00>, 'press_diff_9': <__main__.StandardScaler object at 0x18c3cc550>, 'evaptrans_0': <__main__.StandardScaler object at 0x18c3cfd60>, 'evaptrans_1': <__main__.StandardScaler object at 0x18c3cd390>, 'evaptrans_2': <__main__.StandardScaler object at 0x18c3ccbe0>, 'evaptrans_3': <__main__.StandardScaler object at 0x18c3cfa30>, 'evaptrans_4': <__main__.StandardScaler object at 0x18c3cf130>, 'evaptrans_5': <__main__.StandardScaler object at 0x18c3cd0f0>, 'evaptrans_6': <__main__.StandardScaler object at 0x18c3cd270>, 'evaptrans_7': <__main__.StandardScaler object at 0x18c3ce3b0>, 'evaptrans_8': <__main__.StandardScaler object at 0x18c3cdf60>, 'evaptrans_9': <__main__.StandardScaler object at 0x18c3cd9c0>}\n"
     ]
    },
    {
     "ename": "AttributeError",
     "evalue": "'dict' object has no attribute 'transform'",
     "output_type": "error",
     "traceback": [
      "\u001b[0;31m---------------------------------------------------------------------------\u001b[0m",
      "\u001b[0;31mAttributeError\u001b[0m                            Traceback (most recent call last)",
      "Cell \u001b[0;32mIn[42], line 41\u001b[0m\n\u001b[1;32m     38\u001b[0m     scalers[k] \u001b[38;5;241m=\u001b[39m StandardScaler(\u001b[38;5;28mfloat\u001b[39m(v[\u001b[38;5;124m'\u001b[39m\u001b[38;5;124mmean\u001b[39m\u001b[38;5;124m'\u001b[39m]), \u001b[38;5;28mfloat\u001b[39m(v[\u001b[38;5;124m'\u001b[39m\u001b[38;5;124mstd\u001b[39m\u001b[38;5;124m'\u001b[39m]))\n\u001b[1;32m     39\u001b[0m \u001b[38;5;28mprint\u001b[39m(scalers)\n\u001b[0;32m---> 41\u001b[0m param_transform \u001b[38;5;241m=\u001b[39m \u001b[43mscalers\u001b[49m\u001b[38;5;241;43m.\u001b[39;49m\u001b[43mtransform\u001b[49m(parameter_data)\n",
      "\u001b[0;31mAttributeError\u001b[0m: 'dict' object has no attribute 'transform'"
     ]
    }
   ],
   "source": [
    "#Copied from scalers.py\n",
    "class BaseScaler:\n",
    "    \"\"\" Implements base methods that all scalers should inherit \"\"\"\n",
    "\n",
    "    def fit_transform(self, x):\n",
    "        self.fit(x)\n",
    "        return self.transform(x)\n",
    "\n",
    "#Copied from scalers.py\n",
    "class StandardScaler(BaseScaler):\n",
    "    \"\"\"\n",
    "    The StandardScaler standardizes data by subtracting the\n",
    "    mean and dividing by the standard deviation of the data\n",
    "    \"\"\"\n",
    "\n",
    "    def __init__(self, mean=None, std=None, **kwargs):\n",
    "        self.eps = 1e-6\n",
    "        self.mean = mean\n",
    "        self.std = std\n",
    "\n",
    "    def fit(self, x, unbiased=False):\n",
    "        self.mean = x.mean()\n",
    "        self.std = x.std(unbiased=unbiased)\n",
    "\n",
    "    def transform(self, x):\n",
    "        y = (x - self.mean) / (self.std + self.eps)\n",
    "        return y\n",
    "\n",
    "    def inverse_transform(self, y):\n",
    "        x = y * (self.std + self.eps) + self.mean\n",
    "        return x\n",
    "\n",
    "\n",
    "    \n",
    "# Testing reading in scalers\n",
    "file = 'default_scalers.yaml'\n",
    "with open(file, 'r') as f:\n",
    "       lookup = yaml.load(f, Loader=yaml.FullLoader)\n",
    "scalers = {}\n",
    "for k, v in lookup.items():\n",
    "    print('K', k)\n",
    "    scalers[k] = StandardScaler(float(v['mean']), float(v['std']))\n",
    "print(scalers)\n",
    "\n",
    "# Need to apply the transforms now -- this won't work \n",
    "#I think I need to adapt the transform function above but I'm not sure\n",
    "param_transform = scalers.transform(parameter_data)\n",
    "\n"
   ]
  },
  {
   "cell_type": "code",
   "execution_count": 8,
   "metadata": {},
   "outputs": [
    {
     "name": "stdout",
     "output_type": "stream",
     "text": [
      "(10, 64, 64)\n",
      "(10, 64, 64)\n"
     ]
    },
    {
     "data": {
      "text/plain": [
       "<matplotlib.colorbar.Colorbar at 0x1852a6f80>"
      ]
     },
     "execution_count": 8,
     "metadata": {},
     "output_type": "execute_result"
    },
    {
     "data": {
      "image/png": "[encoded data removed]",
      "text/plain": [
       "<Figure size 640x480 with 3 Axes>"
      ]
     },
     "metadata": {},
     "output_type": "display_data"
    }
   ],
   "source": [
    "#Test plotting of static input data to make sure everything is lining up okay \n",
    "var='pf_indicator'\n",
    "file_name=f'{BASE_DIR}/static/{var}.pfb'\n",
    "test = read_pfb(file_name)\n",
    "print(test.shape)\n",
    "ni=test.shape[2]\n",
    "nj=test.shape[1]\n",
    "layer=9\n",
    "\n",
    "cmap1 = \"Reds\"\n",
    "sub_flip = np.zeros((1, nj, ni))\n",
    "sub_flip[0, :, :] = test[layer, :, :]\n",
    "sub_flip = np.flip(sub_flip, 1)\n",
    "\n",
    "plt.imshow(sub_flip[0, :, :], cmap=cmap1)\n",
    "plt.colorbar()\n",
    "\n",
    "# Test plotting of transient input data \n",
    "var='pressure'\n",
    "file_name=f'{BASE_DIR}/transient/{var}.00005.pfb'\n",
    "test = read_pfb(file_name)\n",
    "print(test.shape)\n",
    "ni=test.shape[2]\n",
    "nj=test.shape[1]\n",
    "layer=9\n",
    "\n",
    "cmap1 = \"Reds\"\n",
    "sub_flip = np.zeros((1, nj, ni))\n",
    "sub_flip[0, :, :] = test[layer, :, :]\n",
    "sub_flip = np.flip(sub_flip, 1)\n",
    "\n",
    "plt.imshow(sub_flip[0, :, :], cmap=cmap1)\n",
    "plt.colorbar()"
   ]
  },
  {
   "cell_type": "code",
   "execution_count": null,
   "metadata": {},
   "outputs": [],
   "source": []
  }
 ],
 "metadata": {
  "kernelspec": {
   "display_name": "Python 3 (ipykernel)",
   "language": "python",
   "name": "python3"
  },
  "language_info": {
   "codemirror_mode": {
    "name": "ipython",
    "version": 3
   },
   "file_extension": ".py",
   "mimetype": "text/x-python",
   "name": "python",
   "nbconvert_exporter": "python",
   "pygments_lexer": "ipython3",
   "version": "3.11.4"
  }
 },
 "nbformat": 4,
 "nbformat_minor": 4
}
