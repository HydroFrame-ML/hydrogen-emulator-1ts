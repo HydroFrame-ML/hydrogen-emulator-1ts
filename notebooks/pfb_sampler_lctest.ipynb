{
 "cells": [
  {
   "cell_type": "code",
   "execution_count": 54,
   "metadata": {},
   "outputs": [],
   "source": [
    "import xarray as xr\n",
    "import os\n",
    "# Need to use xbatcher from: https://github.com/arbennett/xbatcher/tree/develop\n",
    "# python -m pip install git+https://github.com/arbennett/xbatcher/tree/develop.git (Doesn't work)\n",
    "import xbatcher as xb\n",
    "import numpy as np\n",
    "import matplotlib.pyplot as plt\n",
    "\n",
    "from glob import glob\n",
    "from parflow.tools.io import read_pfb"
   ]
  },
  {
   "cell_type": "markdown",
   "metadata": {},
   "source": [
    "# Setup the paths to the test case"
   ]
  },
  {
   "cell_type": "code",
   "execution_count": null,
   "metadata": {},
   "outputs": [
    {
     "name": "stdout",
     "output_type": "stream",
     "text": [
      "(64, 64, 10)\n",
      "<xarray.Dataset> Size: 1kB\n",
      "Dimensions:  (time: 1, z: 64, y: 64, x: 10)\n",
      "Coordinates:\n",
      "  * time     (time) int64 8B 0\n",
      "  * z        (z) int64 512B 0 1 2 3 4 5 6 7 8 9 ... 55 56 57 58 59 60 61 62 63\n",
      "  * y        (y) int64 512B 0 1 2 3 4 5 6 7 8 9 ... 55 56 57 58 59 60 61 62 63\n",
      "  * x        (x) int64 80B 0 1 2 3 4 5 6 7 8 9\n",
      "Data variables:\n",
      "    *empty*\n"
     ]
    }
   ],
   "source": [
    "BASE_DIR = '/Users/laura/Documents/Research/NAIRR/test_box1_conus2_2005WY'\n",
    "\n",
    "#list of the static files to use\n",
    "parameter_list= ['slope_x', 'slope_y', 'pf_indicator']\n",
    "\n",
    "#get the domain sizes from one of the 3D parameter fields (this assumes that all will have the same shape I don't have a check for that built in, also assumes you will correctly pick a 3D one and not a 2D one)\n",
    "size_test=read_pfb(f'{BASE_DIR}/static/{parameter_list[2]}.pfb')\n",
    "print(size_test.shape)\n",
    "X_EXTENT = size_test.shape[2] ## Note need to check if I have the X and Y extents in the right order -- to do this do a new clip but not with a square domain\n",
    "Y_EXTENT = size_test.shape[1]\n",
    "Z_EXTENT = size_test.shape[0]\n",
    "T_EXTENT = 1 #This is just for the dummy data for sampling so keep T_EXTENT to 1\n",
    "\n",
    "#Set the the patch size/overlap to be used for sampling\n",
    "PATCH_SIZE = 16\n",
    "PATCH_OVERLAP = 4\n",
    "\n",
    "# Create a dummy dataset that will be used to pull indices for reading subsets of the data\n",
    "dummy_data = xr.Dataset().assign_coords({\n",
    "    'time': np.arange(T_EXTENT),\n",
    "    'z': np.arange(Z_EXTENT),\n",
    "    'y': np.arange(Y_EXTENT),\n",
    "    'x': np.arange(X_EXTENT)\n",
    "})\n",
    "print(dummy_data)\n"
   ]
  },
  {
   "cell_type": "markdown",
   "metadata": {},
   "source": [
    "## The batch generator create all of the sets of indices we need to sample the full dataset"
   ]
  },
  {
   "cell_type": "code",
   "execution_count": 56,
   "metadata": {},
   "outputs": [
    {
     "name": "stdout",
     "output_type": "stream",
     "text": [
      "{'x': {'start': np.int64(16), 'stop': np.int64(36)}, 'y': {'start': np.int64(16), 'stop': np.int64(36)}}\n"
     ]
    }
   ],
   "source": [
    "PATCH_SIZE = 20\n",
    "PATCH_OVERLAP = 4\n",
    "\n",
    "bgen = xb.BatchGenerator(\n",
    "    dummy_data,\n",
    "    input_dims={'x': PATCH_SIZE, 'y': PATCH_SIZE, 'time': 1},\n",
    "    input_overlap={'x': PATCH_OVERLAP, 'y': PATCH_OVERLAP},\n",
    "    return_partial=True,\n",
    "    shuffle=True,\n",
    ")\n",
    "\n",
    "# Now you can see this pulls samples from the dummy data\n",
    "# Normally you would loop over this, but I can just do \n",
    "# this to grab the first sample\n",
    "sample_indices = next(iter(bgen))\n",
    "\n",
    "# Pulling the indices we need\n",
    "time_index = sample_indices['time'].values[0]\n",
    "x_min, x_max = sample_indices['x'].values[[0, -1]]\n",
    "y_min, y_max = sample_indices['y'].values[[0, -1]]\n",
    "\n",
    "# Setting up the keys dictionary\n",
    "patch_keys = {\n",
    "    'x': {'start': x_min, 'stop': x_max+1},\n",
    "    'y': {'start': y_min, 'stop': y_max+1},\n",
    "}\n",
    "\n",
    "print(patch_keys)\n"
   ]
  },
  {
   "cell_type": "markdown",
   "metadata": {},
   "source": [
    "### Getting the pressure files"
   ]
  },
  {
   "cell_type": "code",
   "execution_count": 60,
   "metadata": {},
   "outputs": [
    {
     "name": "stdout",
     "output_type": "stream",
     "text": [
      "(10, 20, 20) (10, 20, 20)\n"
     ]
    }
   ],
   "source": [
    "# Get Pressure files\n",
    "pressure_files = sorted(glob(f'{BASE_DIR}/transient/pressure*.pfb'))\n",
    "pressure_files = {\n",
    "    't': pressure_files[0:-1],\n",
    "    't+1': pressure_files[1:]\n",
    "}\n",
    "\n",
    "# Construct the state data:\n",
    "file_to_read = pressure_files['t'][time_index]\n",
    "state_data = read_pfb(file_to_read, keys=patch_keys)\n",
    "\n",
    "# Construct the target data:\n",
    "file_to_read_target = pressure_files['t+1'][time_index]\n",
    "target_data = read_pfb(file_to_read_target, keys=patch_keys)\n",
    "\n",
    "# Forcings and targets now have dims\n",
    "# (layers, y, x)\n",
    "print(state_data.shape, target_data.shape)\n"
   ]
  },
  {
   "cell_type": "markdown",
   "metadata": {},
   "source": [
    "### Pulling the static field data"
   ]
  },
  {
   "cell_type": "code",
   "execution_count": 61,
   "metadata": {},
   "outputs": [
    {
     "name": "stdout",
     "output_type": "stream",
     "text": [
      "/Users/laura/Documents/Research/NAIRR/test_rectangle1_conus2_2005WY/static/pf_indicator.pfb\n",
      "/Users/laura/Documents/Research/NAIRR/test_rectangle1_conus2_2005WY/static/slope_x.pfb\n",
      "/Users/laura/Documents/Research/NAIRR/test_rectangle1_conus2_2005WY/static/slope_y.pfb\n"
     ]
    },
    {
     "data": {
      "text/plain": [
       "(12, 20, 20)"
      ]
     },
     "execution_count": 61,
     "metadata": {},
     "output_type": "execute_result"
    }
   ],
   "source": [
    "parameter_data = []\n",
    "for parameter in parameter_list:\n",
    "    print(file_name)\n",
    "    file_name=f'{BASE_DIR}/static/{parameter}.pfb'\n",
    "    parameter_data.append(read_pfb(file_name, keys=patch_keys))\n",
    "\n",
    "# Concatenate the parameter data together\n",
    "# End result is a dims of (n_parameters, y, x)\n",
    "parameter_data = np.concatenate(parameter_data, axis=0)\n",
    "parameter_data.shape"
   ]
  },
  {
   "cell_type": "markdown",
   "metadata": {},
   "source": [
    "### Random testing stuff don't need"
   ]
  },
  {
   "cell_type": "code",
   "execution_count": 53,
   "metadata": {},
   "outputs": [
    {
     "name": "stdout",
     "output_type": "stream",
     "text": [
      "(10, 74, 64)\n",
      "(10, 74, 64)\n"
     ]
    },
    {
     "data": {
      "text/plain": [
       "<matplotlib.colorbar.Colorbar at 0x1854070a0>"
      ]
     },
     "execution_count": 53,
     "metadata": {},
     "output_type": "execute_result"
    },
    {
     "data": {
      "image/png": "[encoded data removed]",
      "text/plain": [
       "<Figure size 640x480 with 3 Axes>"
      ]
     },
     "metadata": {},
     "output_type": "display_data"
    }
   ],
   "source": [
    "#Test plotting of static input data to make sure everything is lining up okay \n",
    "var='pf_indicator'\n",
    "file_name=f'{BASE_DIR}/static/{var}.pfb'\n",
    "test = read_pfb(file_name)\n",
    "print(test.shape)\n",
    "ni=test.shape[2]\n",
    "nj=test.shape[1]\n",
    "layer=9\n",
    "\n",
    "cmap1 = \"Reds\"\n",
    "sub_flip = np.zeros((1, nj, ni))\n",
    "sub_flip[0, :, :] = test[layer, :, :]\n",
    "sub_flip = np.flip(sub_flip, 1)\n",
    "\n",
    "plt.imshow(sub_flip[0, :, :], cmap=cmap1)\n",
    "plt.colorbar()\n",
    "\n",
    "# Test plotting of transient input data \n",
    "var='pressure'\n",
    "file_name=f'{BASE_DIR}/transient/{var}.00005.pfb'\n",
    "test = read_pfb(file_name)\n",
    "print(test.shape)\n",
    "ni=test.shape[2]\n",
    "nj=test.shape[1]\n",
    "layer=9\n",
    "\n",
    "cmap1 = \"Reds\"\n",
    "sub_flip = np.zeros((1, nj, ni))\n",
    "sub_flip[0, :, :] = test[layer, :, :]\n",
    "sub_flip = np.flip(sub_flip, 1)\n",
    "\n",
    "plt.imshow(sub_flip[0, :, :], cmap=cmap1)\n",
    "plt.colorbar()"
   ]
  }
 ],
 "metadata": {
  "kernelspec": {
   "display_name": "hydrogen_emulator",
   "language": "python",
   "name": "python3"
  },
  "language_info": {
   "codemirror_mode": {
    "name": "ipython",
    "version": 3
   },
   "file_extension": ".py",
   "mimetype": "text/x-python",
   "name": "python",
   "nbconvert_exporter": "python",
   "pygments_lexer": "ipython3",
   "version": "3.10.15"
  }
 },
 "nbformat": 4,
 "nbformat_minor": 2
}
