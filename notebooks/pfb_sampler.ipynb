{
 "cells": [
  {
   "cell_type": "code",
   "execution_count": null,
   "metadata": {},
   "outputs": [],
   "source": [
    "import xarray as xr\n",
    "# Need to use xbatcher from: https://github.com/arbennett/xbatcher/tree/develop\n",
    "import xbatcher as xb\n",
    "import numpy as np\n",
    "\n",
    "from glob import glob\n",
    "from parflow.tools.io import read_pfb"
   ]
  },
  {
   "cell_type": "code",
   "execution_count": 24,
   "metadata": {},
   "outputs": [],
   "source": [
    "BASE_DIR = '/hydrodata/PFCLM/CONUS1_baseline/simulations'\n",
    "YEAR = 2004\n",
    "\n",
    "# Get Pressure files\n",
    "pressure_files = sorted(glob(f'{BASE_DIR}/{YEAR}/raw_outputs/pressure/*.pfb'))\n",
    "pressure_files = {\n",
    "    't': pressure_files[0:-1],\n",
    "    't+1': pressure_files[1:]\n",
    "}\n",
    "\n",
    "# Get parameter filesk\n",
    "parameter_names = [\n",
    "    'permeability', 'porosity', 'vgn_alpha', 'vgn_n', 'slope_x', 'slope_y'\n",
    "]\n",
    "parameter_files = {\n",
    "    name: f'{BASE_DIR}/static/CONUS1_{name}.pfb' for name in parameter_names\n",
    "}\n",
    "\n",
    "\n",
    "# Get forcing files\n",
    "all_forcings = glob(f'{BASE_DIR}/{YEAR}/WY{YEAR}/*.pfb')\n",
    "varnames = set([f.split('/')[-1].split('.')[1] for f in all_forcings])\n",
    "\n",
    "variable_forcings = {}\n",
    "for v in varnames:\n",
    "    variable_forcings[v] = sorted(glob(f'{BASE_DIR}/{YEAR}/WY{YEAR}/*.{v}.*pfb'))"
   ]
  },
  {
   "cell_type": "code",
   "execution_count": 40,
   "metadata": {},
   "outputs": [],
   "source": [
    "X_EXTENT = 3342\n",
    "Y_EXTENT = 1888\n",
    "T_EXTENT = 8759 # 1 less because we are predicting t+1\n",
    "Z_EXTENT = 5\n",
    "PATCH_SIZE = 128\n",
    "PATCH_OVERLAP = 32"
   ]
  },
  {
   "cell_type": "code",
   "execution_count": 41,
   "metadata": {},
   "outputs": [],
   "source": [
    "dummy_data = xr.Dataset().assign_coords({\n",
    "    'time': np.arange(T_EXTENT),\n",
    "    'z': np.arange(Z_EXTENT),\n",
    "    'y': np.arange(Y_EXTENT),\n",
    "    'x': np.arange(X_EXTENT)\n",
    "})"
   ]
  },
  {
   "cell_type": "code",
   "execution_count": 45,
   "metadata": {},
   "outputs": [],
   "source": [
    "bgen = xb.BatchGenerator(\n",
    "    dummy_data,\n",
    "    input_dims={'x': PATCH_SIZE, 'y': PATCH_SIZE, 'time': 1},\n",
    "    input_overlap={'x': PATCH_OVERLAP, 'y': PATCH_OVERLAP},\n",
    "    return_partial=True,\n",
    "    shuffle=True,\n",
    ")"
   ]
  },
  {
   "cell_type": "code",
   "execution_count": 62,
   "metadata": {},
   "outputs": [],
   "source": [
    "# Now you can see this pulls samples from teh dummy data\n",
    "sample_indices = next(iter(bgen))\n",
    "time_index = sample_indices['time'].values[0]\n",
    "x_min, x_max = sample_indices['x'].values[[0, -1]]\n",
    "y_min, y_max = sample_indices['y'].values[[0, -1]]\n",
    "\n",
    "pressure_keys = {\n",
    "    'x': {'start': x_min, 'stop': x_max},\n",
    "    'y': {'start': y_min, 'stop': y_max},\n",
    "}"
   ]
  },
  {
   "cell_type": "code",
   "execution_count": null,
   "metadata": {},
   "outputs": [],
   "source": [
    "# Construct the state data:\n",
    "file_to_read = pressure_files['t'][time_index]\n",
    "state_data = read_pfb(file_to_read, keys=pressure_keys)\n",
    "\n",
    "# Construct the target data:\n",
    "file_to_read_target = pressure_files['t+1'][time_index]\n",
    "target_data = read_pfb(file_to_read_target, keys=pressure_keys)\n",
    "\n",
    "# Construct the forcing data:\n"
   ]
  },
  {
   "cell_type": "code",
   "execution_count": 64,
   "metadata": {},
   "outputs": [
    {
     "data": {
      "text/plain": [
       "((5, 127, 127), (5, 127, 127))"
      ]
     },
     "execution_count": 64,
     "metadata": {},
     "output_type": "execute_result"
    }
   ],
   "source": [
    "state_data.shape, target_data.shape"
   ]
  },
  {
   "cell_type": "code",
   "execution_count": null,
   "metadata": {},
   "outputs": [],
   "source": []
  }
 ],
 "metadata": {
  "kernelspec": {
   "display_name": "emu23",
   "language": "python",
   "name": "python3"
  },
  "language_info": {
   "codemirror_mode": {
    "name": "ipython",
    "version": 3
   },
   "file_extension": ".py",
   "mimetype": "text/x-python",
   "name": "python",
   "nbconvert_exporter": "python",
   "pygments_lexer": "ipython3",
   "version": "3.10.8"
  }
 },
 "nbformat": 4,
 "nbformat_minor": 2
}
